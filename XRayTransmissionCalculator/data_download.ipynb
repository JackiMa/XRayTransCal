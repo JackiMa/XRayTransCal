{
 "cells": [
  {
   "cell_type": "markdown",
   "metadata": {},
   "source": [
    "# 准备数据"
   ]
  },
  {
   "cell_type": "markdown",
   "metadata": {},
   "source": [
    "## data download"
   ]
  },
  {
   "cell_type": "code",
   "execution_count": null,
   "metadata": {},
   "outputs": [],
   "source": [
    "import requests\n",
    "import re\n",
    "import os\n",
    "\n",
    "# 创建存放XrayMassCoef_html的文件夹\n",
    "XrayMassCoef_html_lists = \"Data/XrayMassCoef_html_lists\"\n",
    "os.makedirs(XrayMassCoef_html_lists, exist_ok=True)\n",
    "\n",
    "# 网页的URL\n",
    "content_url = \"https://physics.nist.gov/PhysRefData/XrayMassCoef/tab3.html\"\n",
    "constant_url = \"https://physics.nist.gov/PhysRefData/XrayMassCoef/tab1.html\"\n",
    "content_file_name = r\"Data/X-Ray Mass Attenuation Coefficients content.html\"\n",
    "constant_file_name = r\"Data/Element constant.html\"\n",
    "# 使用requests库下载网页\n",
    "content_response = requests.get(content_url)\n",
    "constant_response = requests.get(constant_url)\n",
    "\n",
    "# 将网页内容保存到content_file\n",
    "with open(content_file_name, \"w\", encoding='utf-8') as file:\n",
    "    file.write(content_response.text)\n",
    "with open(constant_file_name, \"w\", encoding='utf-8') as file:\n",
    "    file.write(constant_response.text)\n",
    "\n",
    "\n",
    "# 读取content_file\n",
    "with open(content_file_name, \"r\", encoding='utf-8') as file:\n",
    "    content = file.read()\n",
    "\n",
    "# 使用正则表达式匹配\n",
    "pattern = r'<TD>(.*?)</TD>\\s*<TD><A href=\"(.*?)\">(.*?)</A></TD>'\n",
    "matches = re.findall(pattern, content)\n",
    "\n",
    "\n",
    "# 对于每个匹配的元素，下载网页并保存为文件\n",
    "for match in matches:\n",
    "    symbol, href, name = match\n",
    "    url = f\"https://physics.nist.gov/PhysRefData/XrayMassCoef/{href}\"\n",
    "    response = requests.get(url)\n",
    "    filename = XrayMassCoef_html_lists+f\"/{symbol}_{name}_XrayMassCoef.html\"\n",
    "    with open(filename, \"w\", encoding='utf-8') as file:\n",
    "        file.write(response.text)"
   ]
  },
  {
   "cell_type": "markdown",
   "metadata": {},
   "source": [
    "## 整理数据格式"
   ]
  },
  {
   "cell_type": "code",
   "execution_count": null,
   "metadata": {},
   "outputs": [],
   "source": [
    "# 获取元素常数信息\n",
    "\n",
    "from bs4 import BeautifulSoup\n",
    "import pandas as pd\n",
    "\n",
    "# 创建BeautifulSoup对象\n",
    "soup = BeautifulSoup(content, 'html.parser')\n",
    "\n",
    "# 找到所有的<tr>标签\n",
    "rows = soup.find_all('tr')\n",
    "\n",
    "# 创建一个空的DataFrame来存储提取的信息\n",
    "df = pd.DataFrame(columns=['Z', 'Symbol', 'Z/A', 'Density'])\n",
    "\n",
    "# 遍历每一行\n",
    "elementZA = {}\n",
    "for row in rows:\n",
    "    # 在当前行中找到所有的<td>标签\n",
    "    cols = row.find_all('td')\n",
    "    # 如果找到的<td>标签数量不足，跳过当前行\n",
    "    if len(cols) < 6:\n",
    "        continue\n",
    "    # 提取需要的信息\n",
    "    Z = cols[0].text.strip()\n",
    "    symbol = cols[1].text.strip()\n",
    "    z_a = cols[3].text.strip()\n",
    "    density = cols[5].text.strip()\n",
    "    # 将提取的信息添加到DataFrame中\n",
    "    elementZA[Z] = (z_a, density) # 保存Z/A和Density\n",
    "    df = pd.concat([df, pd.DataFrame({'Z': [Z], 'Symbol': [symbol], 'Z/A': [z_a], 'Density': [density]})], ignore_index=True)\n",
    "\n",
    "# 打印DataFrame\n",
    "print(df)\n",
    "\n",
    "elementZA['1'] = (\"0.99212\",\"8.375E-05\") # 特殊情况的特殊处理"
   ]
  },
  {
   "cell_type": "code",
   "execution_count": null,
   "metadata": {},
   "outputs": [],
   "source": [
    "# 获取元素X-ray Mass Attenuation Coefficients信息\n",
    "\n",
    "import os\n",
    "from bs4 import BeautifulSoup\n",
    "import pandas as pd\n",
    "\n",
    "# 注意 C 元素的名称是 Carbon, 而不是 Carbon (graphite)，后者需要写复杂的逻辑处理，所以我手动处理了源html文件\n",
    "# 注意，Be元素的格式提取有点问题， 执行下面代码后手动看一看\n",
    "\n",
    "XrayMassCoef_html_lists = \"Data/XrayMassCoef_html_lists\"\n",
    "XrayMassCoef_csv_lists = \"Data/XrayMassCoef_csv_lists\"\n",
    "os.makedirs(XrayMassCoef_csv_lists, exist_ok=True)\n",
    "\n",
    "# 获取XrayMassCoef_html_lists文件夹中的所有文件\n",
    "files = os.listdir(XrayMassCoef_html_lists)\n",
    "\n",
    "Zlist = []\n",
    "title = ['Energy (MeV)', 'μ/ρ (cm2/g)', 'μen/ρ (cm2/g)']\n",
    "# 对于每个文件，提取<PRE>标签内的内容并保存为CSV文件\n",
    "for file in files:\n",
    "    with open(XrayMassCoef_html_lists+f\"/{file}\", \"r\", encoding='utf-8') as datafile:\n",
    "        content = datafile.read()\n",
    "    soup = BeautifulSoup(content, 'html.parser')\n",
    "    Z = soup.find('b').get_text().split()[3]\n",
    "    pre_content = soup.find('pre').get_text()\n",
    "    data = []\n",
    "    for line in pre_content.split('\\n'):\n",
    "        if line:\n",
    "            spilt_list = line.split()\n",
    "            if len(spilt_list) == 4:\n",
    "                data.append(spilt_list[1:])\n",
    "            if len(spilt_list) <= 3:\n",
    "                data.append(spilt_list)\n",
    "\n",
    "    df = pd.DataFrame(data[4:], columns=title)\n",
    "    symbol, name, _ = file.split('_')\n",
    "    Zlist.append(Z)\n",
    "    A = float(Z) / float(elementZA[Z][0]) \n",
    "    print(f\"/{symbol}_{name}_{Z}_{A:.2f}_XrayMassCoef.csv\")\n",
    "    df.to_csv(XrayMassCoef_csv_lists+f\"/{symbol}_{name}_{Z}_{A:.2f}_XrayMassCoef.csv\", index=False)"
   ]
  },
  {
   "cell_type": "code",
   "execution_count": null,
   "metadata": {},
   "outputs": [],
   "source": []
  }
 ],
 "metadata": {
  "kernelspec": {
   "display_name": "base",
   "language": "python",
   "name": "python3"
  },
  "language_info": {
   "codemirror_mode": {
    "name": "ipython",
    "version": 3
   },
   "file_extension": ".py",
   "mimetype": "text/x-python",
   "name": "python",
   "nbconvert_exporter": "python",
   "pygments_lexer": "ipython3",
   "version": "3.10.9"
  }
 },
 "nbformat": 4,
 "nbformat_minor": 2
}
